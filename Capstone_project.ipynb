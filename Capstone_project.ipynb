{
 "cells": [
  {
   "cell_type": "code",
   "execution_count": 1,
   "id": "446f9e00",
   "metadata": {
    "scrolled": true
   },
   "outputs": [],
   "source": [
    "import pandas as pd\n",
    "import numpy as np\n",
    "import seaborn as sns\n",
    "import datetime\n",
    "import matplotlib.pyplot as plt\n",
    "from scipy import stats\n",
    "import statsmodels.api as sm\n",
    "import scipy.stats as stats\n",
    "from scipy.stats import zscore\n",
    "import sklearn\n",
    "from sklearn.linear_model import LinearRegression\n",
    "import scipy.stats\n",
    "from scipy.stats import norm\n",
    "b\n",
    "%matplotlib inline"
   ]
  },
  {
   "cell_type": "code",
   "execution_count": 2,
   "id": "e0afae99",
   "metadata": {
    "scrolled": true
   },
   "outputs": [
    {
     "name": "stderr",
     "output_type": "stream",
     "text": [
      "C:\\Users\\bigbo\\AppData\\Local\\Temp\\ipykernel_33140\\1124094302.py:1: DtypeWarning: Columns (20,21) have mixed types. Specify dtype option on import or set low_memory=False.\n",
      "  df=pd.read_csv('airport.csv')\n"
     ]
    },
    {
     "data": {
      "text/html": [
       "<div>\n",
       "<style scoped>\n",
       "    .dataframe tbody tr th:only-of-type {\n",
       "        vertical-align: middle;\n",
       "    }\n",
       "\n",
       "    .dataframe tbody tr th {\n",
       "        vertical-align: top;\n",
       "    }\n",
       "\n",
       "    .dataframe thead th {\n",
       "        text-align: right;\n",
       "    }\n",
       "</style>\n",
       "<table border=\"1\" class=\"dataframe\">\n",
       "  <thead>\n",
       "    <tr style=\"text-align: right;\">\n",
       "      <th></th>\n",
       "      <th>tbl</th>\n",
       "      <th>Year</th>\n",
       "      <th>quarter</th>\n",
       "      <th>citymarketid_1</th>\n",
       "      <th>citymarketid_2</th>\n",
       "      <th>city1</th>\n",
       "      <th>city2</th>\n",
       "      <th>airportid_1</th>\n",
       "      <th>airportid_2</th>\n",
       "      <th>airport_1</th>\n",
       "      <th>...</th>\n",
       "      <th>fare</th>\n",
       "      <th>carrier_lg</th>\n",
       "      <th>large_ms</th>\n",
       "      <th>fare_lg</th>\n",
       "      <th>carrier_low</th>\n",
       "      <th>lf_ms</th>\n",
       "      <th>fare_low</th>\n",
       "      <th>Geocoded_City1</th>\n",
       "      <th>Geocoded_City2</th>\n",
       "      <th>tbl1apk</th>\n",
       "    </tr>\n",
       "  </thead>\n",
       "  <tbody>\n",
       "    <tr>\n",
       "      <th>0</th>\n",
       "      <td>Table1a</td>\n",
       "      <td>2021</td>\n",
       "      <td>3</td>\n",
       "      <td>30135</td>\n",
       "      <td>33195</td>\n",
       "      <td>Allentown/Bethlehem/Easton, PA</td>\n",
       "      <td>Tampa, FL (Metropolitan Area)</td>\n",
       "      <td>10135</td>\n",
       "      <td>14112</td>\n",
       "      <td>ABE</td>\n",
       "      <td>...</td>\n",
       "      <td>81.43</td>\n",
       "      <td>G4</td>\n",
       "      <td>1.0000</td>\n",
       "      <td>81.43</td>\n",
       "      <td>G4</td>\n",
       "      <td>1.0000</td>\n",
       "      <td>81.43</td>\n",
       "      <td>NaN</td>\n",
       "      <td>NaN</td>\n",
       "      <td>202131013514112ABEPIE</td>\n",
       "    </tr>\n",
       "    <tr>\n",
       "      <th>1</th>\n",
       "      <td>Table1a</td>\n",
       "      <td>2021</td>\n",
       "      <td>3</td>\n",
       "      <td>30135</td>\n",
       "      <td>33195</td>\n",
       "      <td>Allentown/Bethlehem/Easton, PA</td>\n",
       "      <td>Tampa, FL (Metropolitan Area)</td>\n",
       "      <td>10135</td>\n",
       "      <td>15304</td>\n",
       "      <td>ABE</td>\n",
       "      <td>...</td>\n",
       "      <td>208.93</td>\n",
       "      <td>DL</td>\n",
       "      <td>0.4659</td>\n",
       "      <td>219.98</td>\n",
       "      <td>UA</td>\n",
       "      <td>0.1193</td>\n",
       "      <td>154.11</td>\n",
       "      <td>NaN</td>\n",
       "      <td>NaN</td>\n",
       "      <td>202131013515304ABETPA</td>\n",
       "    </tr>\n",
       "    <tr>\n",
       "      <th>2</th>\n",
       "      <td>Table1a</td>\n",
       "      <td>2021</td>\n",
       "      <td>3</td>\n",
       "      <td>30140</td>\n",
       "      <td>30194</td>\n",
       "      <td>Albuquerque, NM</td>\n",
       "      <td>Dallas/Fort Worth, TX</td>\n",
       "      <td>10140</td>\n",
       "      <td>11259</td>\n",
       "      <td>ABQ</td>\n",
       "      <td>...</td>\n",
       "      <td>184.56</td>\n",
       "      <td>WN</td>\n",
       "      <td>0.9968</td>\n",
       "      <td>184.44</td>\n",
       "      <td>WN</td>\n",
       "      <td>0.9968</td>\n",
       "      <td>184.44</td>\n",
       "      <td>NaN</td>\n",
       "      <td>NaN</td>\n",
       "      <td>202131014011259ABQDAL</td>\n",
       "    </tr>\n",
       "  </tbody>\n",
       "</table>\n",
       "<p>3 rows × 23 columns</p>\n",
       "</div>"
      ],
      "text/plain": [
       "       tbl  Year  quarter  citymarketid_1  citymarketid_2  \\\n",
       "0  Table1a  2021        3           30135           33195   \n",
       "1  Table1a  2021        3           30135           33195   \n",
       "2  Table1a  2021        3           30140           30194   \n",
       "\n",
       "                            city1                          city2  airportid_1  \\\n",
       "0  Allentown/Bethlehem/Easton, PA  Tampa, FL (Metropolitan Area)        10135   \n",
       "1  Allentown/Bethlehem/Easton, PA  Tampa, FL (Metropolitan Area)        10135   \n",
       "2                 Albuquerque, NM          Dallas/Fort Worth, TX        10140   \n",
       "\n",
       "   airportid_2 airport_1  ...    fare  carrier_lg  large_ms  fare_lg  \\\n",
       "0        14112       ABE  ...   81.43          G4    1.0000    81.43   \n",
       "1        15304       ABE  ...  208.93          DL    0.4659   219.98   \n",
       "2        11259       ABQ  ...  184.56          WN    0.9968   184.44   \n",
       "\n",
       "  carrier_low   lf_ms  fare_low Geocoded_City1  Geocoded_City2  \\\n",
       "0          G4  1.0000     81.43            NaN             NaN   \n",
       "1          UA  0.1193    154.11            NaN             NaN   \n",
       "2          WN  0.9968    184.44            NaN             NaN   \n",
       "\n",
       "                 tbl1apk  \n",
       "0  202131013514112ABEPIE  \n",
       "1  202131013515304ABETPA  \n",
       "2  202131014011259ABQDAL  \n",
       "\n",
       "[3 rows x 23 columns]"
      ]
     },
     "execution_count": 2,
     "metadata": {},
     "output_type": "execute_result"
    }
   ],
   "source": [
    "df=pd.read_csv('airport.csv')\n",
    "df.head(3)"
   ]
  },
  {
   "cell_type": "code",
   "execution_count": 3,
   "id": "09166e5a",
   "metadata": {
    "scrolled": false
   },
   "outputs": [
    {
     "name": "stdout",
     "output_type": "stream",
     "text": [
      "The total number or rows in this dataset is 245955\n"
     ]
    }
   ],
   "source": [
    "rows=df.shape[0]\n",
    "print('The total number or rows in this dataset is {}'.format(rows))"
   ]
  },
  {
   "cell_type": "code",
   "execution_count": 4,
   "id": "1bbdf935",
   "metadata": {},
   "outputs": [
    {
     "data": {
      "text/html": [
       "<div>\n",
       "<style scoped>\n",
       "    .dataframe tbody tr th:only-of-type {\n",
       "        vertical-align: middle;\n",
       "    }\n",
       "\n",
       "    .dataframe tbody tr th {\n",
       "        vertical-align: top;\n",
       "    }\n",
       "\n",
       "    .dataframe thead th {\n",
       "        text-align: right;\n",
       "    }\n",
       "</style>\n",
       "<table border=\"1\" class=\"dataframe\">\n",
       "  <thead>\n",
       "    <tr style=\"text-align: right;\">\n",
       "      <th></th>\n",
       "      <th>tbl</th>\n",
       "      <th>Year</th>\n",
       "      <th>quarter</th>\n",
       "      <th>citymarketid_1</th>\n",
       "      <th>citymarketid_2</th>\n",
       "      <th>city1</th>\n",
       "      <th>city2</th>\n",
       "      <th>airportid_1</th>\n",
       "      <th>airportid_2</th>\n",
       "      <th>OriginAirport</th>\n",
       "      <th>...</th>\n",
       "      <th>AverageFare</th>\n",
       "      <th>LargestCarrier</th>\n",
       "      <th>MarketShareLG</th>\n",
       "      <th>LargestFare</th>\n",
       "      <th>carrier_low</th>\n",
       "      <th>lf_ms</th>\n",
       "      <th>fare_low</th>\n",
       "      <th>Geocoded_City1</th>\n",
       "      <th>Geocoded_City2</th>\n",
       "      <th>tbl1apk</th>\n",
       "    </tr>\n",
       "  </thead>\n",
       "  <tbody>\n",
       "    <tr>\n",
       "      <th>0</th>\n",
       "      <td>Table1a</td>\n",
       "      <td>2021</td>\n",
       "      <td>3</td>\n",
       "      <td>30135</td>\n",
       "      <td>33195</td>\n",
       "      <td>Allentown/Bethlehem/Easton, PA</td>\n",
       "      <td>Tampa, FL (Metropolitan Area)</td>\n",
       "      <td>10135</td>\n",
       "      <td>14112</td>\n",
       "      <td>ABE</td>\n",
       "      <td>...</td>\n",
       "      <td>81.43</td>\n",
       "      <td>G4</td>\n",
       "      <td>1.0000</td>\n",
       "      <td>81.43</td>\n",
       "      <td>G4</td>\n",
       "      <td>1.0000</td>\n",
       "      <td>81.43</td>\n",
       "      <td>NaN</td>\n",
       "      <td>NaN</td>\n",
       "      <td>202131013514112ABEPIE</td>\n",
       "    </tr>\n",
       "    <tr>\n",
       "      <th>1</th>\n",
       "      <td>Table1a</td>\n",
       "      <td>2021</td>\n",
       "      <td>3</td>\n",
       "      <td>30135</td>\n",
       "      <td>33195</td>\n",
       "      <td>Allentown/Bethlehem/Easton, PA</td>\n",
       "      <td>Tampa, FL (Metropolitan Area)</td>\n",
       "      <td>10135</td>\n",
       "      <td>15304</td>\n",
       "      <td>ABE</td>\n",
       "      <td>...</td>\n",
       "      <td>208.93</td>\n",
       "      <td>DL</td>\n",
       "      <td>0.4659</td>\n",
       "      <td>219.98</td>\n",
       "      <td>UA</td>\n",
       "      <td>0.1193</td>\n",
       "      <td>154.11</td>\n",
       "      <td>NaN</td>\n",
       "      <td>NaN</td>\n",
       "      <td>202131013515304ABETPA</td>\n",
       "    </tr>\n",
       "    <tr>\n",
       "      <th>2</th>\n",
       "      <td>Table1a</td>\n",
       "      <td>2021</td>\n",
       "      <td>3</td>\n",
       "      <td>30140</td>\n",
       "      <td>30194</td>\n",
       "      <td>Albuquerque, NM</td>\n",
       "      <td>Dallas/Fort Worth, TX</td>\n",
       "      <td>10140</td>\n",
       "      <td>11259</td>\n",
       "      <td>ABQ</td>\n",
       "      <td>...</td>\n",
       "      <td>184.56</td>\n",
       "      <td>WN</td>\n",
       "      <td>0.9968</td>\n",
       "      <td>184.44</td>\n",
       "      <td>WN</td>\n",
       "      <td>0.9968</td>\n",
       "      <td>184.44</td>\n",
       "      <td>NaN</td>\n",
       "      <td>NaN</td>\n",
       "      <td>202131014011259ABQDAL</td>\n",
       "    </tr>\n",
       "  </tbody>\n",
       "</table>\n",
       "<p>3 rows × 23 columns</p>\n",
       "</div>"
      ],
      "text/plain": [
       "       tbl  Year  quarter  citymarketid_1  citymarketid_2  \\\n",
       "0  Table1a  2021        3           30135           33195   \n",
       "1  Table1a  2021        3           30135           33195   \n",
       "2  Table1a  2021        3           30140           30194   \n",
       "\n",
       "                            city1                          city2  airportid_1  \\\n",
       "0  Allentown/Bethlehem/Easton, PA  Tampa, FL (Metropolitan Area)        10135   \n",
       "1  Allentown/Bethlehem/Easton, PA  Tampa, FL (Metropolitan Area)        10135   \n",
       "2                 Albuquerque, NM          Dallas/Fort Worth, TX        10140   \n",
       "\n",
       "   airportid_2 OriginAirport  ... AverageFare  LargestCarrier  MarketShareLG  \\\n",
       "0        14112           ABE  ...       81.43              G4         1.0000   \n",
       "1        15304           ABE  ...      208.93              DL         0.4659   \n",
       "2        11259           ABQ  ...      184.56              WN         0.9968   \n",
       "\n",
       "   LargestFare carrier_low   lf_ms  fare_low Geocoded_City1  Geocoded_City2  \\\n",
       "0        81.43          G4  1.0000     81.43            NaN             NaN   \n",
       "1       219.98          UA  0.1193    154.11            NaN             NaN   \n",
       "2       184.44          WN  0.9968    184.44            NaN             NaN   \n",
       "\n",
       "                 tbl1apk  \n",
       "0  202131013514112ABEPIE  \n",
       "1  202131013515304ABETPA  \n",
       "2  202131014011259ABQDAL  \n",
       "\n",
       "[3 rows x 23 columns]"
      ]
     },
     "execution_count": 4,
     "metadata": {},
     "output_type": "execute_result"
    }
   ],
   "source": [
    "df.rename(columns={'fare':'AverageFare', 'fare_lg':'LargestFare',\n",
    "                    'carrier_lg':'LargestCarrier', 'large_ms':'MarketShareLG', 'airport_1':'OriginAirport'}, inplace=True)\n",
    "df.head(3)"
   ]
  },
  {
   "cell_type": "markdown",
   "id": "f6e7ce02",
   "metadata": {},
   "source": [
    "Before we go any further, I am going to rename the columns that I plan on using for a better description."
   ]
  },
  {
   "cell_type": "code",
   "execution_count": 5,
   "id": "1f831154",
   "metadata": {},
   "outputs": [
    {
     "data": {
      "text/html": [
       "<div>\n",
       "<style scoped>\n",
       "    .dataframe tbody tr th:only-of-type {\n",
       "        vertical-align: middle;\n",
       "    }\n",
       "\n",
       "    .dataframe tbody tr th {\n",
       "        vertical-align: top;\n",
       "    }\n",
       "\n",
       "    .dataframe thead th {\n",
       "        text-align: right;\n",
       "    }\n",
       "</style>\n",
       "<table border=\"1\" class=\"dataframe\">\n",
       "  <thead>\n",
       "    <tr style=\"text-align: right;\">\n",
       "      <th></th>\n",
       "      <th>count</th>\n",
       "      <th>mean</th>\n",
       "      <th>std</th>\n",
       "      <th>min</th>\n",
       "      <th>25%</th>\n",
       "      <th>50%</th>\n",
       "      <th>75%</th>\n",
       "      <th>max</th>\n",
       "    </tr>\n",
       "  </thead>\n",
       "  <tbody>\n",
       "    <tr>\n",
       "      <th>Year</th>\n",
       "      <td>245955.0</td>\n",
       "      <td>2008.524124</td>\n",
       "      <td>8.703364</td>\n",
       "      <td>1993.0000</td>\n",
       "      <td>2001.000</td>\n",
       "      <td>2008.0000</td>\n",
       "      <td>2016.0000</td>\n",
       "      <td>2024.0</td>\n",
       "    </tr>\n",
       "    <tr>\n",
       "      <th>quarter</th>\n",
       "      <td>245955.0</td>\n",
       "      <td>2.479153</td>\n",
       "      <td>1.122149</td>\n",
       "      <td>1.0000</td>\n",
       "      <td>1.000</td>\n",
       "      <td>2.0000</td>\n",
       "      <td>3.0000</td>\n",
       "      <td>4.0</td>\n",
       "    </tr>\n",
       "    <tr>\n",
       "      <th>citymarketid_1</th>\n",
       "      <td>245955.0</td>\n",
       "      <td>31556.430201</td>\n",
       "      <td>1089.872880</td>\n",
       "      <td>30135.0000</td>\n",
       "      <td>30721.000</td>\n",
       "      <td>31423.0000</td>\n",
       "      <td>32467.0000</td>\n",
       "      <td>35412.0</td>\n",
       "    </tr>\n",
       "    <tr>\n",
       "      <th>citymarketid_2</th>\n",
       "      <td>245955.0</td>\n",
       "      <td>32180.117086</td>\n",
       "      <td>1232.464184</td>\n",
       "      <td>30189.0000</td>\n",
       "      <td>30994.000</td>\n",
       "      <td>32211.0000</td>\n",
       "      <td>33192.0000</td>\n",
       "      <td>35628.0</td>\n",
       "    </tr>\n",
       "    <tr>\n",
       "      <th>airportid_1</th>\n",
       "      <td>245955.0</td>\n",
       "      <td>12437.099986</td>\n",
       "      <td>1431.665257</td>\n",
       "      <td>10135.0000</td>\n",
       "      <td>11193.000</td>\n",
       "      <td>12266.0000</td>\n",
       "      <td>13487.0000</td>\n",
       "      <td>16440.0</td>\n",
       "    </tr>\n",
       "    <tr>\n",
       "      <th>airportid_2</th>\n",
       "      <td>245955.0</td>\n",
       "      <td>13249.889525</td>\n",
       "      <td>1425.810159</td>\n",
       "      <td>10466.0000</td>\n",
       "      <td>12197.000</td>\n",
       "      <td>13303.0000</td>\n",
       "      <td>14679.0000</td>\n",
       "      <td>15919.0</td>\n",
       "    </tr>\n",
       "    <tr>\n",
       "      <th>nsmiles</th>\n",
       "      <td>245955.0</td>\n",
       "      <td>1189.812319</td>\n",
       "      <td>703.143472</td>\n",
       "      <td>109.0000</td>\n",
       "      <td>626.000</td>\n",
       "      <td>1023.0000</td>\n",
       "      <td>1736.0000</td>\n",
       "      <td>2724.0</td>\n",
       "    </tr>\n",
       "    <tr>\n",
       "      <th>passengers</th>\n",
       "      <td>245955.0</td>\n",
       "      <td>299.476795</td>\n",
       "      <td>511.389486</td>\n",
       "      <td>0.0000</td>\n",
       "      <td>21.000</td>\n",
       "      <td>113.0000</td>\n",
       "      <td>339.0000</td>\n",
       "      <td>8301.0</td>\n",
       "    </tr>\n",
       "    <tr>\n",
       "      <th>AverageFare</th>\n",
       "      <td>245955.0</td>\n",
       "      <td>218.979587</td>\n",
       "      <td>82.372486</td>\n",
       "      <td>50.0000</td>\n",
       "      <td>164.620</td>\n",
       "      <td>209.3200</td>\n",
       "      <td>262.8900</td>\n",
       "      <td>3377.0</td>\n",
       "    </tr>\n",
       "    <tr>\n",
       "      <th>MarketShareLG</th>\n",
       "      <td>244415.0</td>\n",
       "      <td>0.665252</td>\n",
       "      <td>0.224635</td>\n",
       "      <td>0.0038</td>\n",
       "      <td>0.480</td>\n",
       "      <td>0.6524</td>\n",
       "      <td>0.8719</td>\n",
       "      <td>1.0</td>\n",
       "    </tr>\n",
       "    <tr>\n",
       "      <th>LargestFare</th>\n",
       "      <td>244415.0</td>\n",
       "      <td>218.710963</td>\n",
       "      <td>84.674363</td>\n",
       "      <td>50.0000</td>\n",
       "      <td>161.500</td>\n",
       "      <td>208.0300</td>\n",
       "      <td>263.6400</td>\n",
       "      <td>2725.6</td>\n",
       "    </tr>\n",
       "    <tr>\n",
       "      <th>lf_ms</th>\n",
       "      <td>244343.0</td>\n",
       "      <td>0.450438</td>\n",
       "      <td>0.332669</td>\n",
       "      <td>0.0100</td>\n",
       "      <td>0.158</td>\n",
       "      <td>0.3600</td>\n",
       "      <td>0.7500</td>\n",
       "      <td>1.0</td>\n",
       "    </tr>\n",
       "    <tr>\n",
       "      <th>fare_low</th>\n",
       "      <td>244343.0</td>\n",
       "      <td>190.675939</td>\n",
       "      <td>73.577694</td>\n",
       "      <td>50.0000</td>\n",
       "      <td>140.060</td>\n",
       "      <td>181.6300</td>\n",
       "      <td>230.0400</td>\n",
       "      <td>2725.6</td>\n",
       "    </tr>\n",
       "  </tbody>\n",
       "</table>\n",
       "</div>"
      ],
      "text/plain": [
       "                   count          mean          std         min        25%  \\\n",
       "Year            245955.0   2008.524124     8.703364   1993.0000   2001.000   \n",
       "quarter         245955.0      2.479153     1.122149      1.0000      1.000   \n",
       "citymarketid_1  245955.0  31556.430201  1089.872880  30135.0000  30721.000   \n",
       "citymarketid_2  245955.0  32180.117086  1232.464184  30189.0000  30994.000   \n",
       "airportid_1     245955.0  12437.099986  1431.665257  10135.0000  11193.000   \n",
       "airportid_2     245955.0  13249.889525  1425.810159  10466.0000  12197.000   \n",
       "nsmiles         245955.0   1189.812319   703.143472    109.0000    626.000   \n",
       "passengers      245955.0    299.476795   511.389486      0.0000     21.000   \n",
       "AverageFare     245955.0    218.979587    82.372486     50.0000    164.620   \n",
       "MarketShareLG   244415.0      0.665252     0.224635      0.0038      0.480   \n",
       "LargestFare     244415.0    218.710963    84.674363     50.0000    161.500   \n",
       "lf_ms           244343.0      0.450438     0.332669      0.0100      0.158   \n",
       "fare_low        244343.0    190.675939    73.577694     50.0000    140.060   \n",
       "\n",
       "                       50%         75%      max  \n",
       "Year             2008.0000   2016.0000   2024.0  \n",
       "quarter             2.0000      3.0000      4.0  \n",
       "citymarketid_1  31423.0000  32467.0000  35412.0  \n",
       "citymarketid_2  32211.0000  33192.0000  35628.0  \n",
       "airportid_1     12266.0000  13487.0000  16440.0  \n",
       "airportid_2     13303.0000  14679.0000  15919.0  \n",
       "nsmiles          1023.0000   1736.0000   2724.0  \n",
       "passengers        113.0000    339.0000   8301.0  \n",
       "AverageFare       209.3200    262.8900   3377.0  \n",
       "MarketShareLG       0.6524      0.8719      1.0  \n",
       "LargestFare       208.0300    263.6400   2725.6  \n",
       "lf_ms               0.3600      0.7500      1.0  \n",
       "fare_low          181.6300    230.0400   2725.6  "
      ]
     },
     "execution_count": 5,
     "metadata": {},
     "output_type": "execute_result"
    }
   ],
   "source": [
    "df.describe().T"
   ]
  },
  {
   "cell_type": "code",
   "execution_count": 6,
   "id": "71bd4c55",
   "metadata": {
    "scrolled": true
   },
   "outputs": [
    {
     "name": "stdout",
     "output_type": "stream",
     "text": [
      "<class 'pandas.core.frame.DataFrame'>\n",
      "RangeIndex: 245955 entries, 0 to 245954\n",
      "Data columns (total 23 columns):\n",
      " #   Column          Non-Null Count   Dtype  \n",
      "---  ------          --------------   -----  \n",
      " 0   tbl             245955 non-null  object \n",
      " 1   Year            245955 non-null  int64  \n",
      " 2   quarter         245955 non-null  int64  \n",
      " 3   citymarketid_1  245955 non-null  int64  \n",
      " 4   citymarketid_2  245955 non-null  int64  \n",
      " 5   city1           245955 non-null  object \n",
      " 6   city2           245955 non-null  object \n",
      " 7   airportid_1     245955 non-null  int64  \n",
      " 8   airportid_2     245955 non-null  int64  \n",
      " 9   OriginAirport   245955 non-null  object \n",
      " 10  airport_2       245955 non-null  object \n",
      " 11  nsmiles         245955 non-null  int64  \n",
      " 12  passengers      245955 non-null  int64  \n",
      " 13  AverageFare     245955 non-null  float64\n",
      " 14  LargestCarrier  244415 non-null  object \n",
      " 15  MarketShareLG   244415 non-null  float64\n",
      " 16  LargestFare     244415 non-null  float64\n",
      " 17  carrier_low     244343 non-null  object \n",
      " 18  lf_ms           244343 non-null  float64\n",
      " 19  fare_low        244343 non-null  float64\n",
      " 20  Geocoded_City1  206749 non-null  object \n",
      " 21  Geocoded_City2  206749 non-null  object \n",
      " 22  tbl1apk         245955 non-null  object \n",
      "dtypes: float64(5), int64(8), object(10)\n",
      "memory usage: 43.2+ MB\n"
     ]
    }
   ],
   "source": [
    "df.info()"
   ]
  },
  {
   "cell_type": "markdown",
   "id": "60652baf",
   "metadata": {},
   "source": [
    "Here we can see that there appears to be some missing data in the columns carrier_lg, large_ms, fare_lg, carrier_low, lf_ms, fare_low, geocoded_city1, geocoded_city2 and tbl1apk."
   ]
  },
  {
   "cell_type": "code",
   "execution_count": 7,
   "id": "39099777",
   "metadata": {
    "scrolled": true
   },
   "outputs": [
    {
     "data": {
      "text/plain": [
       "tbl                   0\n",
       "Year                  0\n",
       "quarter               0\n",
       "citymarketid_1        0\n",
       "citymarketid_2        0\n",
       "city1                 0\n",
       "city2                 0\n",
       "airportid_1           0\n",
       "airportid_2           0\n",
       "OriginAirport         0\n",
       "airport_2             0\n",
       "nsmiles               0\n",
       "passengers            0\n",
       "AverageFare           0\n",
       "LargestCarrier     1540\n",
       "MarketShareLG      1540\n",
       "LargestFare        1540\n",
       "carrier_low        1612\n",
       "lf_ms              1612\n",
       "fare_low           1612\n",
       "Geocoded_City1    39206\n",
       "Geocoded_City2    39206\n",
       "tbl1apk               0\n",
       "dtype: int64"
      ]
     },
     "execution_count": 7,
     "metadata": {},
     "output_type": "execute_result"
    }
   ],
   "source": [
    "df.isnull().sum()"
   ]
  },
  {
   "cell_type": "markdown",
   "id": "73ebfb40",
   "metadata": {},
   "source": [
    "This is helping us confirm that there are infact some null values from the listed columns mentioned above."
   ]
  },
  {
   "cell_type": "code",
   "execution_count": 8,
   "id": "4c6da685",
   "metadata": {},
   "outputs": [],
   "source": [
    "df1 = df[['OriginAirport','AverageFare','LargestFare', 'LargestCarrier',\n",
    "                               'MarketShareLG']].copy()"
   ]
  },
  {
   "cell_type": "markdown",
   "id": "72e005e0",
   "metadata": {},
   "source": [
    "I decided to create a new dataframe using only the fields that we need for this question by copying the original dataframe. This is to make working with the data a bit more concise."
   ]
  },
  {
   "cell_type": "code",
   "execution_count": 9,
   "id": "c669c6e7",
   "metadata": {
    "scrolled": true
   },
   "outputs": [],
   "source": [
    "df1.dropna(inplace = True)"
   ]
  },
  {
   "cell_type": "markdown",
   "id": "631768a9",
   "metadata": {},
   "source": [
    "I am going to drop all nan values to better sync the data going foreward."
   ]
  },
  {
   "cell_type": "code",
   "execution_count": 10,
   "id": "ca52af77",
   "metadata": {
    "scrolled": true
   },
   "outputs": [
    {
     "name": "stdout",
     "output_type": "stream",
     "text": [
      "<class 'pandas.core.frame.DataFrame'>\n",
      "Index: 244415 entries, 0 to 245954\n",
      "Data columns (total 5 columns):\n",
      " #   Column          Non-Null Count   Dtype  \n",
      "---  ------          --------------   -----  \n",
      " 0   OriginAirport   244415 non-null  object \n",
      " 1   AverageFare     244415 non-null  float64\n",
      " 2   LargestFare     244415 non-null  float64\n",
      " 3   LargestCarrier  244415 non-null  object \n",
      " 4   MarketShareLG   244415 non-null  float64\n",
      "dtypes: float64(3), object(2)\n",
      "memory usage: 11.2+ MB\n"
     ]
    }
   ],
   "source": [
    "df1.info()"
   ]
  },
  {
   "cell_type": "code",
   "execution_count": 11,
   "id": "55997f43",
   "metadata": {},
   "outputs": [
    {
     "data": {
      "text/plain": [
       "OriginAirport     0\n",
       "AverageFare       0\n",
       "LargestFare       0\n",
       "LargestCarrier    0\n",
       "MarketShareLG     0\n",
       "dtype: int64"
      ]
     },
     "execution_count": 11,
     "metadata": {},
     "output_type": "execute_result"
    }
   ],
   "source": [
    "df1.isnull().sum()"
   ]
  },
  {
   "cell_type": "markdown",
   "id": "5d299c4e",
   "metadata": {},
   "source": [
    "Here I am double checking that there is indeed no more null values in the new dataset"
   ]
  },
  {
   "cell_type": "code",
   "execution_count": 12,
   "id": "d16b7c76",
   "metadata": {
    "scrolled": true
   },
   "outputs": [
    {
     "data": {
      "text/html": [
       "<div>\n",
       "<style scoped>\n",
       "    .dataframe tbody tr th:only-of-type {\n",
       "        vertical-align: middle;\n",
       "    }\n",
       "\n",
       "    .dataframe tbody tr th {\n",
       "        vertical-align: top;\n",
       "    }\n",
       "\n",
       "    .dataframe thead th {\n",
       "        text-align: right;\n",
       "    }\n",
       "</style>\n",
       "<table border=\"1\" class=\"dataframe\">\n",
       "  <thead>\n",
       "    <tr style=\"text-align: right;\">\n",
       "      <th></th>\n",
       "      <th>count</th>\n",
       "      <th>mean</th>\n",
       "      <th>std</th>\n",
       "      <th>min</th>\n",
       "      <th>25%</th>\n",
       "      <th>50%</th>\n",
       "      <th>75%</th>\n",
       "      <th>max</th>\n",
       "    </tr>\n",
       "  </thead>\n",
       "  <tbody>\n",
       "    <tr>\n",
       "      <th>AverageFare</th>\n",
       "      <td>244415.0</td>\n",
       "      <td>218.441905</td>\n",
       "      <td>79.547855</td>\n",
       "      <td>50.0000</td>\n",
       "      <td>164.68</td>\n",
       "      <td>209.2700</td>\n",
       "      <td>262.6150</td>\n",
       "      <td>3377.0</td>\n",
       "    </tr>\n",
       "    <tr>\n",
       "      <th>LargestFare</th>\n",
       "      <td>244415.0</td>\n",
       "      <td>218.710963</td>\n",
       "      <td>84.674363</td>\n",
       "      <td>50.0000</td>\n",
       "      <td>161.50</td>\n",
       "      <td>208.0300</td>\n",
       "      <td>263.6400</td>\n",
       "      <td>2725.6</td>\n",
       "    </tr>\n",
       "    <tr>\n",
       "      <th>MarketShareLG</th>\n",
       "      <td>244415.0</td>\n",
       "      <td>0.665252</td>\n",
       "      <td>0.224635</td>\n",
       "      <td>0.0038</td>\n",
       "      <td>0.48</td>\n",
       "      <td>0.6524</td>\n",
       "      <td>0.8719</td>\n",
       "      <td>1.0</td>\n",
       "    </tr>\n",
       "  </tbody>\n",
       "</table>\n",
       "</div>"
      ],
      "text/plain": [
       "                  count        mean        std      min     25%       50%  \\\n",
       "AverageFare    244415.0  218.441905  79.547855  50.0000  164.68  209.2700   \n",
       "LargestFare    244415.0  218.710963  84.674363  50.0000  161.50  208.0300   \n",
       "MarketShareLG  244415.0    0.665252   0.224635   0.0038    0.48    0.6524   \n",
       "\n",
       "                    75%     max  \n",
       "AverageFare    262.6150  3377.0  \n",
       "LargestFare    263.6400  2725.6  \n",
       "MarketShareLG    0.8719     1.0  "
      ]
     },
     "execution_count": 12,
     "metadata": {},
     "output_type": "execute_result"
    }
   ],
   "source": [
    "df1.describe().T"
   ]
  },
  {
   "cell_type": "code",
   "execution_count": 13,
   "id": "728f79a2",
   "metadata": {
    "scrolled": false
   },
   "outputs": [
    {
     "data": {
      "image/png": "[encoded data removed]",
      "text/plain": [
       "<Figure size 640x480 with 9 Axes>"
      ]
     },
     "metadata": {},
     "output_type": "display_data"
    }
   ],
   "source": [
    "pd.plotting.scatter_matrix(df1);"
   ]
  },
  {
   "cell_type": "markdown",
   "id": "1a46a23c",
   "metadata": {},
   "source": [
    "I am using a scatter matrix here to get an overall visual of any top level correlation of the data."
   ]
  },
  {
   "cell_type": "code",
   "execution_count": 14,
   "id": "6d74344b",
   "metadata": {
    "scrolled": false
   },
   "outputs": [
    {
     "data": {
      "text/html": [
       "<div>\n",
       "<style scoped>\n",
       "    .dataframe tbody tr th:only-of-type {\n",
       "        vertical-align: middle;\n",
       "    }\n",
       "\n",
       "    .dataframe tbody tr th {\n",
       "        vertical-align: top;\n",
       "    }\n",
       "\n",
       "    .dataframe thead th {\n",
       "        text-align: right;\n",
       "    }\n",
       "</style>\n",
       "<table border=\"1\" class=\"dataframe\">\n",
       "  <thead>\n",
       "    <tr style=\"text-align: right;\">\n",
       "      <th></th>\n",
       "      <th>OriginAirport</th>\n",
       "      <th>AverageFare</th>\n",
       "      <th>LargestFare</th>\n",
       "      <th>LargestCarrier</th>\n",
       "      <th>MarketShareLG</th>\n",
       "    </tr>\n",
       "  </thead>\n",
       "  <tbody>\n",
       "    <tr>\n",
       "      <th>0</th>\n",
       "      <td>ABE</td>\n",
       "      <td>81.43</td>\n",
       "      <td>81.43</td>\n",
       "      <td>G4</td>\n",
       "      <td>1.0000</td>\n",
       "    </tr>\n",
       "    <tr>\n",
       "      <th>1</th>\n",
       "      <td>ABE</td>\n",
       "      <td>208.93</td>\n",
       "      <td>219.98</td>\n",
       "      <td>DL</td>\n",
       "      <td>0.4659</td>\n",
       "    </tr>\n",
       "    <tr>\n",
       "      <th>2</th>\n",
       "      <td>ABQ</td>\n",
       "      <td>184.56</td>\n",
       "      <td>184.44</td>\n",
       "      <td>WN</td>\n",
       "      <td>0.9968</td>\n",
       "    </tr>\n",
       "    <tr>\n",
       "      <th>3</th>\n",
       "      <td>ABQ</td>\n",
       "      <td>182.64</td>\n",
       "      <td>183.09</td>\n",
       "      <td>AA</td>\n",
       "      <td>0.9774</td>\n",
       "    </tr>\n",
       "    <tr>\n",
       "      <th>4</th>\n",
       "      <td>ABQ</td>\n",
       "      <td>177.11</td>\n",
       "      <td>184.49</td>\n",
       "      <td>WN</td>\n",
       "      <td>0.6061</td>\n",
       "    </tr>\n",
       "  </tbody>\n",
       "</table>\n",
       "</div>"
      ],
      "text/plain": [
       "  OriginAirport  AverageFare  LargestFare LargestCarrier  MarketShareLG\n",
       "0           ABE        81.43        81.43             G4         1.0000\n",
       "1           ABE       208.93       219.98             DL         0.4659\n",
       "2           ABQ       184.56       184.44             WN         0.9968\n",
       "3           ABQ       182.64       183.09             AA         0.9774\n",
       "4           ABQ       177.11       184.49             WN         0.6061"
      ]
     },
     "execution_count": 14,
     "metadata": {},
     "output_type": "execute_result"
    }
   ],
   "source": [
    "diff = df1['LargestFare'] - df1['AverageFare']\n",
    "df2 = df1[diff == diff]\n",
    "\n",
    "df2.head()"
   ]
  },
  {
   "cell_type": "markdown",
   "id": "bccf850e",
   "metadata": {},
   "source": [
    "Here I wanted to find the difference between the largest fare and average fare."
   ]
  },
  {
   "cell_type": "code",
   "execution_count": 15,
   "id": "f140773a",
   "metadata": {
    "scrolled": true
   },
   "outputs": [
    {
     "data": {
      "text/plain": [
       "count     244415\n",
       "unique       183\n",
       "top          ORD\n",
       "freq        8788\n",
       "Name: OriginAirport, dtype: object"
      ]
     },
     "execution_count": 15,
     "metadata": {},
     "output_type": "execute_result"
    }
   ],
   "source": [
    "df2.OriginAirport.describe()"
   ]
  },
  {
   "cell_type": "code",
   "execution_count": 16,
   "id": "fbdf9ab0",
   "metadata": {
    "scrolled": false
   },
   "outputs": [
    {
     "data": {
      "text/plain": [
       "count     244415\n",
       "unique        67\n",
       "top           WN\n",
       "freq       58999\n",
       "Name: LargestCarrier, dtype: object"
      ]
     },
     "execution_count": 16,
     "metadata": {},
     "output_type": "execute_result"
    }
   ],
   "source": [
    "df2.LargestCarrier.describe()"
   ]
  },
  {
   "cell_type": "markdown",
   "id": "e13fbde6",
   "metadata": {},
   "source": [
    "Here I wanted to find the new count of unique airports as well as the top Airport and the largest carrier after the difference of largest fare and average fair. "
   ]
  },
  {
   "cell_type": "code",
   "execution_count": 17,
   "id": "1aedac12",
   "metadata": {},
   "outputs": [
    {
     "name": "stdout",
     "output_type": "stream",
     "text": [
      "OriginAirport  AverageFare  LargestFare  LargestCarrier  MarketShareLG\n",
      "SAC            102.00       102.00       WN              1.0              3\n",
      "CHI            235.20       190.75       TW              0.8              3\n",
      "DAL            73.00        73.00        WN              1.0              3\n",
      "               72.00        72.00        WN              1.0              3\n",
      "MDW            54.51        54.51        WN              1.0              3\n",
      "DAL            70.50        70.50        WN              1.0              3\n",
      "SWF            206.00       206.00       AA              1.0              3\n",
      "ISP            180.10       180.10       US              1.0              3\n",
      "DAL            65.98        65.98        WN              1.0              3\n",
      "CHI            92.00        92.00        WN              1.0              3\n",
      "Name: count, dtype: int64\n"
     ]
    }
   ],
   "source": [
    "top_10diff = (df2.value_counts()).iloc[:10]\n",
    "\n",
    "print(top_10diff)"
   ]
  },
  {
   "cell_type": "markdown",
   "id": "557e78a9",
   "metadata": {},
   "source": [
    "Since there is so many columns of data in this dataset, I decided to find the top ten most frequently occuring values."
   ]
  },
  {
   "cell_type": "code",
   "execution_count": 18,
   "id": "243e79ba",
   "metadata": {
    "scrolled": true
   },
   "outputs": [],
   "source": [
    "top_10Airport = (df2.value_counts('OriginAirport')).iloc[:10]\n",
    "top_10Carrier = (df2.value_counts('LargestCarrier')).iloc[:10]\n",
    "top_10Market = (df2.value_counts('MarketShareLG')).iloc[:10]"
   ]
  },
  {
   "cell_type": "raw",
   "id": "ea190605",
   "metadata": {},
   "source": [
    "Here, I am placing all the needed values into the top ten most frequently occuring values broken down to each column so I can provide a bar chart for each of the fields individually."
   ]
  },
  {
   "cell_type": "code",
   "execution_count": 19,
   "id": "c12258b0",
   "metadata": {
    "scrolled": true
   },
   "outputs": [
    {
     "data": {
      "text/plain": [
       "Text(0.5, 1.0, 'Top ten Origin Airports')"
      ]
     },
     "execution_count": 19,
     "metadata": {},
     "output_type": "execute_result"
    },
    {
     "data": {
      "image/png": "[encoded data removed]",
      "text/plain": [
       "<Figure size 500x500 with 1 Axes>"
      ]
     },
     "metadata": {},
     "output_type": "display_data"
    }
   ],
   "source": [
    "top_10Airport.plot(kind = 'bar', figsize = (5, 5))\n",
    "plt.xlabel('Origin Airport')\n",
    "plt.ylabel('Values')\n",
    "plt.title('Top ten Origin Airports')"
   ]
  },
  {
   "cell_type": "code",
   "execution_count": 20,
   "id": "ac127de6",
   "metadata": {
    "scrolled": true
   },
   "outputs": [
    {
     "data": {
      "text/plain": [
       "Text(0.5, 1.0, 'Top ten Largerst Carriers')"
      ]
     },
     "execution_count": 20,
     "metadata": {},
     "output_type": "execute_result"
    },
    {
     "data": {
      "image/png": "[encoded data removed]",
      "text/plain": [
       "<Figure size 500x500 with 1 Axes>"
      ]
     },
     "metadata": {},
     "output_type": "display_data"
    }
   ],
   "source": [
    "top_10Carrier.plot(kind = 'bar', figsize = (5, 5))\n",
    "plt.xlabel('Largest Carrier')\n",
    "plt.ylabel('Values')\n",
    "plt.title('Top ten Largerst Carriers')"
   ]
  },
  {
   "cell_type": "code",
   "execution_count": 21,
   "id": "54796cc6",
   "metadata": {
    "scrolled": true
   },
   "outputs": [
    {
     "data": {
      "text/plain": [
       "Text(0.5, 1.0, 'Top ten largest Market Share')"
      ]
     },
     "execution_count": 21,
     "metadata": {},
     "output_type": "execute_result"
    },
    {
     "data": {
      "image/png": "[encoded data removed]",
      "text/plain": [
       "<Figure size 500x500 with 1 Axes>"
      ]
     },
     "metadata": {},
     "output_type": "display_data"
    }
   ],
   "source": [
    "top_10Market.plot(kind = 'bar', figsize = (5, 5))\n",
    "plt.xlabel('Largest Market Share')\n",
    "plt.ylabel('Values')\n",
    "plt.title('Top ten largest Market Share')"
   ]
  },
  {
   "cell_type": "code",
   "execution_count": 22,
   "id": "3a6d919c",
   "metadata": {
    "scrolled": true
   },
   "outputs": [
    {
     "name": "stdout",
     "output_type": "stream",
     "text": [
      "LargestCarrier\n",
      "3M    0.606300\n",
      "5J    0.604000\n",
      "9K    0.975000\n",
      "9N    0.749630\n",
      "AA    0.635041\n",
      "AQ    0.456667\n",
      "AS    0.629978\n",
      "B6    0.701603\n",
      "BF    0.784444\n",
      "CO    0.737000\n",
      "Name: MarketShareLG, dtype: float64\n"
     ]
    }
   ],
   "source": [
    "compare = df2.groupby('LargestCarrier').MarketShareLG.mean().iloc[:10]\n",
    "\n",
    "print(compare)"
   ]
  },
  {
   "cell_type": "markdown",
   "id": "3cde9192",
   "metadata": {},
   "source": [
    "Here I did a comparison of the top ten largest carriers based on the mean of their market share. "
   ]
  },
  {
   "cell_type": "code",
   "execution_count": 23,
   "id": "b7812f22",
   "metadata": {
    "scrolled": true
   },
   "outputs": [
    {
     "data": {
      "text/plain": [
       "<Axes: title={'center': 'Largest Carriers market share'}, ylabel='MarketShareLG'>"
      ]
     },
     "execution_count": 23,
     "metadata": {},
     "output_type": "execute_result"
    },
    {
     "data": {
      "image/png": "[encoded data removed]",
      "text/plain": [
       "<Figure size 640x480 with 1 Axes>"
      ]
     },
     "metadata": {},
     "output_type": "display_data"
    }
   ],
   "source": [
    "compare.plot.pie(y = 'Largest Carrier', title = 'Largest Carrier''s market share', legend = False, \\\n",
    "                   autopct='%1.1f%%')"
   ]
  },
  {
   "cell_type": "markdown",
   "id": "a514c8ce",
   "metadata": {},
   "source": [
    "The pie chart shows a more graphical representation of the comparison above showing the percentage of each carrier's market share."
   ]
  },
  {
   "cell_type": "code",
   "execution_count": 24,
   "id": "d9a2b39a",
   "metadata": {
    "scrolled": false
   },
   "outputs": [
    {
     "data": {
      "text/html": [
       "<div>\n",
       "<style scoped>\n",
       "    .dataframe tbody tr th:only-of-type {\n",
       "        vertical-align: middle;\n",
       "    }\n",
       "\n",
       "    .dataframe tbody tr th {\n",
       "        vertical-align: top;\n",
       "    }\n",
       "\n",
       "    .dataframe thead th {\n",
       "        text-align: right;\n",
       "    }\n",
       "</style>\n",
       "<table border=\"1\" class=\"dataframe\">\n",
       "  <thead>\n",
       "    <tr style=\"text-align: right;\">\n",
       "      <th></th>\n",
       "      <th>LargestCarrier</th>\n",
       "      <th>OriginAirport</th>\n",
       "      <th>AverageFare</th>\n",
       "      <th>LargestFare</th>\n",
       "      <th>MarketShareLG</th>\n",
       "    </tr>\n",
       "  </thead>\n",
       "  <tbody>\n",
       "    <tr>\n",
       "      <th>65</th>\n",
       "      <td>ZV</td>\n",
       "      <td>PVD</td>\n",
       "      <td>96.20</td>\n",
       "      <td>96.20</td>\n",
       "      <td>1.00</td>\n",
       "    </tr>\n",
       "    <tr>\n",
       "      <th>23</th>\n",
       "      <td>KS</td>\n",
       "      <td>BOS</td>\n",
       "      <td>159.16</td>\n",
       "      <td>69.75</td>\n",
       "      <td>0.66</td>\n",
       "    </tr>\n",
       "    <tr>\n",
       "      <th>32</th>\n",
       "      <td>OH</td>\n",
       "      <td>MDW</td>\n",
       "      <td>165.05</td>\n",
       "      <td>138.00</td>\n",
       "      <td>0.23</td>\n",
       "    </tr>\n",
       "    <tr>\n",
       "      <th>59</th>\n",
       "      <td>XJ</td>\n",
       "      <td>CAK</td>\n",
       "      <td>180.44</td>\n",
       "      <td>180.00</td>\n",
       "      <td>0.87</td>\n",
       "    </tr>\n",
       "    <tr>\n",
       "      <th>45</th>\n",
       "      <td>T3</td>\n",
       "      <td>ASE</td>\n",
       "      <td>219.98</td>\n",
       "      <td>201.05</td>\n",
       "      <td>0.21</td>\n",
       "    </tr>\n",
       "  </tbody>\n",
       "</table>\n",
       "</div>"
      ],
      "text/plain": [
       "   LargestCarrier OriginAirport  AverageFare  LargestFare  MarketShareLG\n",
       "65             ZV           PVD        96.20        96.20           1.00\n",
       "23             KS           BOS       159.16        69.75           0.66\n",
       "32             OH           MDW       165.05       138.00           0.23\n",
       "59             XJ           CAK       180.44       180.00           0.87\n",
       "45             T3           ASE       219.98       201.05           0.21"
      ]
     },
     "execution_count": 24,
     "metadata": {},
     "output_type": "execute_result"
    }
   ],
   "source": [
    "df_sample = df2.groupby('LargestCarrier', as_index = False).sum()\n",
    "df_sample = df_sample.sort_values('AverageFare')\n",
    "\n",
    "df_sample.head()"
   ]
  },
  {
   "cell_type": "markdown",
   "id": "a597e036",
   "metadata": {},
   "source": [
    "Here, I decided to create a sample field showing the sum of the largest carrier and sorting the values by the average fare."
   ]
  },
  {
   "cell_type": "code",
   "execution_count": 25,
   "id": "1258dff3",
   "metadata": {
    "scrolled": true
   },
   "outputs": [
    {
     "data": {
      "text/html": [
       "<div>\n",
       "<style scoped>\n",
       "    .dataframe tbody tr th:only-of-type {\n",
       "        vertical-align: middle;\n",
       "    }\n",
       "\n",
       "    .dataframe tbody tr th {\n",
       "        vertical-align: top;\n",
       "    }\n",
       "\n",
       "    .dataframe thead th {\n",
       "        text-align: right;\n",
       "    }\n",
       "</style>\n",
       "<table border=\"1\" class=\"dataframe\">\n",
       "  <thead>\n",
       "    <tr style=\"text-align: right;\">\n",
       "      <th></th>\n",
       "      <th>LargestCarrier</th>\n",
       "      <th>OriginAirport</th>\n",
       "      <th>AverageFare</th>\n",
       "      <th>LargestFare</th>\n",
       "      <th>MarketShareLG</th>\n",
       "    </tr>\n",
       "  </thead>\n",
       "  <tbody>\n",
       "    <tr>\n",
       "      <th>65</th>\n",
       "      <td>ZV</td>\n",
       "      <td>PVD</td>\n",
       "      <td>96.20</td>\n",
       "      <td>96.20</td>\n",
       "      <td>1.0000</td>\n",
       "    </tr>\n",
       "    <tr>\n",
       "      <th>23</th>\n",
       "      <td>KS</td>\n",
       "      <td>BOS</td>\n",
       "      <td>159.16</td>\n",
       "      <td>69.75</td>\n",
       "      <td>0.6600</td>\n",
       "    </tr>\n",
       "    <tr>\n",
       "      <th>32</th>\n",
       "      <td>OH</td>\n",
       "      <td>MDW</td>\n",
       "      <td>165.05</td>\n",
       "      <td>138.00</td>\n",
       "      <td>0.2300</td>\n",
       "    </tr>\n",
       "    <tr>\n",
       "      <th>59</th>\n",
       "      <td>XJ</td>\n",
       "      <td>CAK</td>\n",
       "      <td>180.44</td>\n",
       "      <td>180.00</td>\n",
       "      <td>0.8700</td>\n",
       "    </tr>\n",
       "    <tr>\n",
       "      <th>45</th>\n",
       "      <td>T3</td>\n",
       "      <td>ASE</td>\n",
       "      <td>219.98</td>\n",
       "      <td>201.05</td>\n",
       "      <td>0.2100</td>\n",
       "    </tr>\n",
       "    <tr>\n",
       "      <th>36</th>\n",
       "      <td>PA</td>\n",
       "      <td>MIAMDW</td>\n",
       "      <td>237.68</td>\n",
       "      <td>251.01</td>\n",
       "      <td>0.8400</td>\n",
       "    </tr>\n",
       "    <tr>\n",
       "      <th>34</th>\n",
       "      <td>OP</td>\n",
       "      <td>MDWMIA</td>\n",
       "      <td>249.54</td>\n",
       "      <td>242.74</td>\n",
       "      <td>1.1300</td>\n",
       "    </tr>\n",
       "    <tr>\n",
       "      <th>5</th>\n",
       "      <td>AQ</td>\n",
       "      <td>SNASNASNA</td>\n",
       "      <td>331.10</td>\n",
       "      <td>284.65</td>\n",
       "      <td>1.3700</td>\n",
       "    </tr>\n",
       "    <tr>\n",
       "      <th>43</th>\n",
       "      <td>SX</td>\n",
       "      <td>CMHCMHCMH</td>\n",
       "      <td>410.55</td>\n",
       "      <td>351.17</td>\n",
       "      <td>2.3000</td>\n",
       "    </tr>\n",
       "    <tr>\n",
       "      <th>40</th>\n",
       "      <td>RL</td>\n",
       "      <td>JFKJFKFLL</td>\n",
       "      <td>413.95</td>\n",
       "      <td>375.85</td>\n",
       "      <td>2.1500</td>\n",
       "    </tr>\n",
       "    <tr>\n",
       "      <th>33</th>\n",
       "      <td>OO</td>\n",
       "      <td>BURSJCBURSJC</td>\n",
       "      <td>426.29</td>\n",
       "      <td>416.01</td>\n",
       "      <td>2.2600</td>\n",
       "    </tr>\n",
       "    <tr>\n",
       "      <th>12</th>\n",
       "      <td>E9</td>\n",
       "      <td>LCKLCKLCKSWF</td>\n",
       "      <td>430.77</td>\n",
       "      <td>430.77</td>\n",
       "      <td>4.0000</td>\n",
       "    </tr>\n",
       "    <tr>\n",
       "      <th>1</th>\n",
       "      <td>5J</td>\n",
       "      <td>MDWATLATLATLMDW</td>\n",
       "      <td>527.27</td>\n",
       "      <td>522.63</td>\n",
       "      <td>3.0200</td>\n",
       "    </tr>\n",
       "    <tr>\n",
       "      <th>64</th>\n",
       "      <td>ZA</td>\n",
       "      <td>DSMDSMDSMDSM</td>\n",
       "      <td>724.08</td>\n",
       "      <td>525.49</td>\n",
       "      <td>1.7400</td>\n",
       "    </tr>\n",
       "    <tr>\n",
       "      <th>46</th>\n",
       "      <td>TB</td>\n",
       "      <td>BOSBOSBOSLGABOSNYCBOSBOSLGA</td>\n",
       "      <td>916.45</td>\n",
       "      <td>826.09</td>\n",
       "      <td>4.6000</td>\n",
       "    </tr>\n",
       "    <tr>\n",
       "      <th>21</th>\n",
       "      <td>KN</td>\n",
       "      <td>BHCEUGBOIPSPBHCLAXEUGBOIOAKEUG</td>\n",
       "      <td>934.88</td>\n",
       "      <td>756.53</td>\n",
       "      <td>7.0800</td>\n",
       "    </tr>\n",
       "    <tr>\n",
       "      <th>49</th>\n",
       "      <td>U2</td>\n",
       "      <td>ORDORDORDORDORDORDORDORDORDORD</td>\n",
       "      <td>1023.70</td>\n",
       "      <td>953.21</td>\n",
       "      <td>8.2500</td>\n",
       "    </tr>\n",
       "    <tr>\n",
       "      <th>39</th>\n",
       "      <td>QX</td>\n",
       "      <td>BOIEUGEUGBOIBOIBOIBOIEUGEUGBOI</td>\n",
       "      <td>1127.38</td>\n",
       "      <td>1208.62</td>\n",
       "      <td>3.0258</td>\n",
       "    </tr>\n",
       "    <tr>\n",
       "      <th>56</th>\n",
       "      <td>W9</td>\n",
       "      <td>GSOBOSROCGSOBOSGSOGSOBOSGSO</td>\n",
       "      <td>1186.07</td>\n",
       "      <td>1054.54</td>\n",
       "      <td>6.5500</td>\n",
       "    </tr>\n",
       "    <tr>\n",
       "      <th>31</th>\n",
       "      <td>OE</td>\n",
       "      <td>RNOLGBFATOAKOAKLAXLGBFATOAK</td>\n",
       "      <td>1227.15</td>\n",
       "      <td>1233.97</td>\n",
       "      <td>3.9300</td>\n",
       "    </tr>\n",
       "    <tr>\n",
       "      <th>8</th>\n",
       "      <td>BF</td>\n",
       "      <td>MDWMDWMDWMDWMDWMDWMDWMDWMDW</td>\n",
       "      <td>1522.15</td>\n",
       "      <td>1504.94</td>\n",
       "      <td>7.0600</td>\n",
       "    </tr>\n",
       "    <tr>\n",
       "      <th>37</th>\n",
       "      <td>PN</td>\n",
       "      <td>GYYGYYMHTPIEMHTGYYMHTGYYGYYPIEPIEGYYACYPIE</td>\n",
       "      <td>1587.11</td>\n",
       "      <td>1542.75</td>\n",
       "      <td>12.4800</td>\n",
       "    </tr>\n",
       "    <tr>\n",
       "      <th>0</th>\n",
       "      <td>3M</td>\n",
       "      <td>FLLFLLFLLFLLFLLFLLFLLFLLFLLFLL</td>\n",
       "      <td>1630.54</td>\n",
       "      <td>1428.09</td>\n",
       "      <td>6.0630</td>\n",
       "    </tr>\n",
       "    <tr>\n",
       "      <th>18</th>\n",
       "      <td>HQ</td>\n",
       "      <td>PVDDTTBTVBOSBTVBOSBOSBOSLGABOSMHT</td>\n",
       "      <td>1867.16</td>\n",
       "      <td>1892.92</td>\n",
       "      <td>5.7400</td>\n",
       "    </tr>\n",
       "    <tr>\n",
       "      <th>61</th>\n",
       "      <td>YV</td>\n",
       "      <td>FTWPNSMIAFTWJAXFLLJAXPNSFLLMIAMIABDLPNSAUSJAXM...</td>\n",
       "      <td>1972.61</td>\n",
       "      <td>1970.05</td>\n",
       "      <td>12.3800</td>\n",
       "    </tr>\n",
       "  </tbody>\n",
       "</table>\n",
       "</div>"
      ],
      "text/plain": [
       "   LargestCarrier                                      OriginAirport  \\\n",
       "65             ZV                                                PVD   \n",
       "23             KS                                                BOS   \n",
       "32             OH                                                MDW   \n",
       "59             XJ                                                CAK   \n",
       "45             T3                                                ASE   \n",
       "36             PA                                             MIAMDW   \n",
       "34             OP                                             MDWMIA   \n",
       "5              AQ                                          SNASNASNA   \n",
       "43             SX                                          CMHCMHCMH   \n",
       "40             RL                                          JFKJFKFLL   \n",
       "33             OO                                       BURSJCBURSJC   \n",
       "12             E9                                       LCKLCKLCKSWF   \n",
       "1              5J                                    MDWATLATLATLMDW   \n",
       "64             ZA                                       DSMDSMDSMDSM   \n",
       "46             TB                        BOSBOSBOSLGABOSNYCBOSBOSLGA   \n",
       "21             KN                     BHCEUGBOIPSPBHCLAXEUGBOIOAKEUG   \n",
       "49             U2                     ORDORDORDORDORDORDORDORDORDORD   \n",
       "39             QX                     BOIEUGEUGBOIBOIBOIBOIEUGEUGBOI   \n",
       "56             W9                        GSOBOSROCGSOBOSGSOGSOBOSGSO   \n",
       "31             OE                        RNOLGBFATOAKOAKLAXLGBFATOAK   \n",
       "8              BF                        MDWMDWMDWMDWMDWMDWMDWMDWMDW   \n",
       "37             PN         GYYGYYMHTPIEMHTGYYMHTGYYGYYPIEPIEGYYACYPIE   \n",
       "0              3M                     FLLFLLFLLFLLFLLFLLFLLFLLFLLFLL   \n",
       "18             HQ                  PVDDTTBTVBOSBTVBOSBOSBOSLGABOSMHT   \n",
       "61             YV  FTWPNSMIAFTWJAXFLLJAXPNSFLLMIAMIABDLPNSAUSJAXM...   \n",
       "\n",
       "    AverageFare  LargestFare  MarketShareLG  \n",
       "65        96.20        96.20         1.0000  \n",
       "23       159.16        69.75         0.6600  \n",
       "32       165.05       138.00         0.2300  \n",
       "59       180.44       180.00         0.8700  \n",
       "45       219.98       201.05         0.2100  \n",
       "36       237.68       251.01         0.8400  \n",
       "34       249.54       242.74         1.1300  \n",
       "5        331.10       284.65         1.3700  \n",
       "43       410.55       351.17         2.3000  \n",
       "40       413.95       375.85         2.1500  \n",
       "33       426.29       416.01         2.2600  \n",
       "12       430.77       430.77         4.0000  \n",
       "1        527.27       522.63         3.0200  \n",
       "64       724.08       525.49         1.7400  \n",
       "46       916.45       826.09         4.6000  \n",
       "21       934.88       756.53         7.0800  \n",
       "49      1023.70       953.21         8.2500  \n",
       "39      1127.38      1208.62         3.0258  \n",
       "56      1186.07      1054.54         6.5500  \n",
       "31      1227.15      1233.97         3.9300  \n",
       "8       1522.15      1504.94         7.0600  \n",
       "37      1587.11      1542.75        12.4800  \n",
       "0       1630.54      1428.09         6.0630  \n",
       "18      1867.16      1892.92         5.7400  \n",
       "61      1972.61      1970.05        12.3800  "
      ]
     },
     "execution_count": 25,
     "metadata": {},
     "output_type": "execute_result"
    }
   ],
   "source": [
    "df_sample.head(25)"
   ]
  },
  {
   "cell_type": "code",
   "execution_count": 26,
   "id": "727f60df",
   "metadata": {},
   "outputs": [
    {
     "data": {
      "image/png": "[encoded data removed]",
      "text/plain": [
       "<Figure size 1000x1000 with 1 Axes>"
      ]
     },
     "metadata": {},
     "output_type": "display_data"
    }
   ],
   "source": [
    "from matplotlib.pyplot import figure\n",
    "figure(num = None, figsize = (20, 20), dpi =50 , facecolor = 'w', edgecolor = 'r')\n",
    "sns.barplot(x = 'LargestCarrier', y = 'MarketShareLG', data = df_sample.iloc[:25])\n",
    "plt.show()"
   ]
  },
  {
   "cell_type": "markdown",
   "id": "37bc667f",
   "metadata": {},
   "source": [
    "First off, I would like to find the r2 value of the largest market as they relates to the average fare."
   ]
  },
  {
   "cell_type": "code",
   "execution_count": 27,
   "id": "06d69d39",
   "metadata": {
    "scrolled": true
   },
   "outputs": [
    {
     "name": "stdout",
     "output_type": "stream",
     "text": [
      "The R2 value is 0.91%\n"
     ]
    }
   ],
   "source": [
    "model = LinearRegression()\n",
    "X, y = df1[['LargestFare', 'MarketShareLG']], df1.AverageFare\n",
    "model.fit(X, y)\n",
    "r_squared = model.score(X, y)\n",
    "print('The R2 value is {0:.2f}%'.format(r_squared))"
   ]
  },
  {
   "cell_type": "markdown",
   "id": "4832832d",
   "metadata": {},
   "source": [
    "It appears that the R squared value is 91%. This would indicate that there is a high level of correlation between the largest share and the airline with the largest market share."
   ]
  },
  {
   "cell_type": "code",
   "execution_count": 28,
   "id": "87710add",
   "metadata": {
    "scrolled": true
   },
   "outputs": [
    {
     "data": {
      "text/plain": [
       "AverageFare      2.083821e-16\n",
       "LargestFare      1.302388e-16\n",
       "MarketShareLG    6.214251e-16\n",
       "dtype: float64"
      ]
     },
     "execution_count": 28,
     "metadata": {},
     "output_type": "execute_result"
    }
   ],
   "source": [
    "numeric_cols = df1.select_dtypes(include=[np.number]).columns\n",
    "df1[numeric_cols].apply(zscore).mean()"
   ]
  },
  {
   "cell_type": "markdown",
   "id": "b78bcb19",
   "metadata": {},
   "source": [
    "After applying the z-test to every needed column, I found an interesting correlation. It appears that all three columns (AverageFare, LargestFare and MarketShareLG) appear to have a strong positive z score. This would indicate that the Alternative Hypothesis would be correct and there is a direct correlation between an airline's market share in a given market and its overall price."
   ]
  },
  {
   "cell_type": "code",
   "execution_count": 29,
   "id": "9ea4f050",
   "metadata": {
    "scrolled": true
   },
   "outputs": [
    {
     "name": "stdout",
     "output_type": "stream",
     "text": [
      "The p value mean is 0.49%\n"
     ]
    }
   ],
   "source": [
    "p_value = norm.cdf(df1[numeric_cols].apply(zscore)).mean()\n",
    "print('The p value mean is {0:.2f}%'.format(p_value))"
   ]
  },
  {
   "cell_type": "markdown",
   "id": "a3d7071f",
   "metadata": {},
   "source": [
    "After finding the p value, we can determine that it is unlikely that the results of an experiment occurred due to random chance."
   ]
  }
 ],
 "metadata": {
  "kernelspec": {
   "display_name": "Python 3 (ipykernel)",
   "language": "python",
   "name": "python3"
  },
  "language_info": {
   "codemirror_mode": {
    "name": "ipython",
    "version": 3
   },
   "file_extension": ".py",
   "mimetype": "text/x-python",
   "name": "python",
   "nbconvert_exporter": "python",
   "pygments_lexer": "ipython3",
   "version": "3.7.16"
  }
 },
 "nbformat": 4,
 "nbformat_minor": 5
}
